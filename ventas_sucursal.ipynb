{
 "cells": [
  {
   "cell_type": "code",
   "execution_count": 1,
   "id": "15857ea6-5796-4110-8eb9-59a791ecdab8",
   "metadata": {},
   "outputs": [
    {
     "name": "stdout",
     "output_type": "stream",
     "text": [
      "   id_venta  id_cliente  id_sucursal  id_vehiculo  id_fecha  id_metodopago  \\\n",
      "0         1        48.0         23.0         65.0      48.0           95.0   \n",
      "1         2        41.0          3.0         55.0      38.0           79.0   \n",
      "2         3         NaN          NaN         37.0      17.0           85.0   \n",
      "3         4        58.0          3.0          4.0      68.0            2.0   \n",
      "4         5         1.0         24.0         13.0       NaN           91.0   \n",
      "\n",
      "   id_empleado  monto_alquiler  cantidad_alquiler  \n",
      "0         21.0            26.0                NaN  \n",
      "1         63.0            17.0                5.0  \n",
      "2          0.0             NaN               41.0  \n",
      "3         86.0            20.0               26.0  \n",
      "4          NaN            67.0               12.0  \n"
     ]
    }
   ],
   "source": [
    "import pandas as pd\n",
    "\n",
    "# Cargar el archivo CSV con los nombres de columnas especificados\n",
    "data = pd.read_csv(r'C:\\Users\\sebas andoney\\OneDrive\\Escritorio\\ventas_Sucursal.csv')\n",
    "\n",
    "# Revisar las primeras filas\n",
    "print(data.head())\n"
   ]
  },
  {
   "cell_type": "code",
   "execution_count": 2,
   "id": "661fe5f4-b3e9-4c0a-8078-4252a77627d7",
   "metadata": {},
   "outputs": [
    {
     "name": "stdout",
     "output_type": "stream",
     "text": [
      "Duplicados antes de la limpieza: 0\n",
      "Duplicados después de la limpieza: 0\n"
     ]
    }
   ],
   "source": [
    "# Contar duplicados\n",
    "duplicados = data.duplicated().sum()\n",
    "print(f\"Duplicados antes de la limpieza: {duplicados}\")\n",
    "\n",
    "# Eliminar duplicados\n",
    "data_sin_duplicados = data.drop_duplicates()\n",
    "\n",
    "# Contar duplicados después de la limpieza\n",
    "duplicados = data_sin_duplicados.duplicated().sum()\n",
    "print(f\"Duplicados después de la limpieza: {duplicados}\")\n"
   ]
  },
  {
   "cell_type": "code",
   "execution_count": 3,
   "id": "5d8f0ff0-a31c-4426-98df-bf86cd9ddb00",
   "metadata": {},
   "outputs": [
    {
     "name": "stdout",
     "output_type": "stream",
     "text": [
      "Valores faltantes:\n",
      "id_venta               0\n",
      "id_cliente           104\n",
      "id_sucursal          123\n",
      "id_vehiculo          122\n",
      "id_fecha             114\n",
      "id_metodopago        115\n",
      "id_empleado          118\n",
      "monto_alquiler        84\n",
      "cantidad_alquiler    112\n",
      "dtype: int64\n",
      "id_venta             0\n",
      "id_cliente           0\n",
      "id_sucursal          0\n",
      "id_vehiculo          0\n",
      "id_fecha             0\n",
      "id_metodopago        0\n",
      "id_empleado          0\n",
      "monto_alquiler       0\n",
      "cantidad_alquiler    0\n",
      "dtype: int64\n"
     ]
    }
   ],
   "source": [
    "# Verificar valores faltantes\n",
    "valores_faltantes = data_sin_duplicados.isnull().sum()\n",
    "print(f\"Valores faltantes:\\n{valores_faltantes}\")\n",
    "\n",
    "# Reemplazar valores faltantes de monto_alquiler y cantidad_alquiler con 0, y otros con 'Desconocido'\n",
    "data_imputada = data_sin_duplicados.fillna({\n",
    "    'monto_alquiler': 0,\n",
    "    'cantidad_alquiler': 0,\n",
    "    'id_cliente': 'Desconocido',\n",
    "    'id_sucursal': 'Desconocido',\n",
    "    'id_vehiculo': 'Desconocido',\n",
    "    'id_metodopago': 'Desconocido',\n",
    "    'id_empleado': 'Desconocido',\n",
    "    'id_fecha': 'Desconocido'\n",
    "})\n",
    "\n",
    "print(data_imputada.isnull().sum())  # Verificar si aún hay valores faltantes\n"
   ]
  },
  {
   "cell_type": "code",
   "execution_count": 4,
   "id": "68ec6dbc-f224-45dd-a3ff-797736400291",
   "metadata": {},
   "outputs": [
    {
     "name": "stdout",
     "output_type": "stream",
     "text": [
      "Registros después de la validación: 1000\n"
     ]
    }
   ],
   "source": [
    "# Convertir 'monto_aquiler' y 'cantidad_alquiler' a valores numéricos\n",
    "data_imputada['monto_alquiler'] = pd.to_numeric(data_imputada['monto_alquiler'], errors='coerce')\n",
    "data_imputada['cantidad_alquiler'] = pd.to_numeric(data_imputada['cantidad_alquiler'], errors='coerce')\n",
    "\n",
    "# Validar que los valores no sean negativos\n",
    "data_validada = data_imputada[(data_imputada['monto_alquiler'] >= 0) & (data_imputada['cantidad_alquiler'] >= 0)]\n",
    "\n",
    "print(f\"Registros después de la validación: {len(data_validada)}\")\n"
   ]
  },
  {
   "cell_type": "code",
   "execution_count": null,
   "id": "762691a4-91dc-471f-b833-7414e003bd26",
   "metadata": {},
   "outputs": [],
   "source": [
    "# Filtrar filas donde 'id_sucursal' no sea \"Desconocido\"\n",
    "data_validada_filtrada = data_validada[data_validada['id_cliente'] != 'Desconocido']\n",
    "\n",
    "# Agrupar por sucursal y sumar el monto total de alquiler y cantidad total alquilada\n",
    "ventas_por_sucursal = data_validada_filtrada.groupby('id_cliente').agg({\n",
    "    'monto_alquiler': 'sum',\n",
    "    'cantidad_alquiler': 'sum'\n",
    "}).reset_index()\n",
    "\n",
    "# Ordenar por el monto total de alquiler de mayor a menor\n",
    "ventas_por_sucursal = ventas_por_sucursal.sort_values(by='monto_alquiler', ascending=False)\n",
    "\n",
    "# Guardar el resultado en un archivo CSV\n",
    "ventas_por_sucursal.to_csv('ventas_por_sucursal.csv', index=False)\n",
    "\n",
    "print(\"Datos de ventas por vehículo guardados en 'ventas_por_sucursal.csv'\")\n",
    "\n"
   ]
  },
  {
   "cell_type": "code",
   "execution_count": null,
   "id": "3fb8c1c3-636e-45a0-a8ce-cc6536aa0fdd",
   "metadata": {},
   "outputs": [],
   "source": []
  },
  {
   "cell_type": "code",
   "execution_count": null,
   "id": "e2f58518-b1dc-4d7b-9e54-b235e5b3edde",
   "metadata": {},
   "outputs": [],
   "source": []
  }
 ],
 "metadata": {
  "kernelspec": {
   "display_name": "Python 3 (ipykernel)",
   "language": "python",
   "name": "python3"
  },
  "language_info": {
   "codemirror_mode": {
    "name": "ipython",
    "version": 3
   },
   "file_extension": ".py",
   "mimetype": "text/x-python",
   "name": "python",
   "nbconvert_exporter": "python",
   "pygments_lexer": "ipython3",
   "version": "3.12.1"
  }
 },
 "nbformat": 4,
 "nbformat_minor": 5
}
